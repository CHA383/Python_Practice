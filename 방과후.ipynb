{
 "cells": [
  {
   "cell_type": "markdown",
   "id": "247c3b41",
   "metadata": {},
   "source": [
    "# 출력함수"
   ]
  },
  {
   "cell_type": "code",
   "execution_count": null,
   "id": "298d9f33",
   "metadata": {},
   "outputs": [],
   "source": [
    "print (\"Hello World\" * 3)"
   ]
  },
  {
   "cell_type": "code",
   "execution_count": null,
   "id": "ce9adb0c",
   "metadata": {},
   "outputs": [],
   "source": [
    "# 여러 문자열 출력\n",
    "print(\"Hello\", \"안녕하세요\", \"반갑습니다\")\n",
    "print(\"Hello\" + \"안녕하세요\" + \"반갑습니다\")"
   ]
  },
  {
   "cell_type": "code",
   "execution_count": null,
   "id": "a8936891",
   "metadata": {},
   "outputs": [],
   "source": [
    "# 긴 문자열 출력\n",
    "print(\"\"\"\\\n",
    "동해물과 백두산이 마르고 닳도록\n",
    "하느님이 보우하사 우리나라 만세\n",
    "무궁화 삼천리 화려강산\n",
    "대한사람 대한으로 길이 보전하세\\\n",
    "\"\"\")"
   ]
  },
  {
   "cell_type": "code",
   "execution_count": null,
   "id": "d0970db7",
   "metadata": {},
   "outputs": [],
   "source": [
    "print(\"그녀의 나이는\" + str(5) + \"살이다\")"
   ]
  },
  {
   "cell_type": "code",
   "execution_count": null,
   "id": "76e86c25",
   "metadata": {},
   "outputs": [],
   "source": [
    "x = input (\"입력: \")\n",
    "print(x)"
   ]
  },
  {
   "cell_type": "code",
   "execution_count": null,
   "id": "136f0569",
   "metadata": {},
   "outputs": [],
   "source": [
    "x = int(input(\"입력: \"))\n",
    "y = int(input(\"입력: \"))\n",
    "print (x+y)"
   ]
  },
  {
   "cell_type": "code",
   "execution_count": null,
   "id": "888d4808",
   "metadata": {},
   "outputs": [],
   "source": [
    "# 형식지정자 사용 출력"
   ]
  },
  {
   "cell_type": "code",
   "execution_count": null,
   "id": "fb51621f",
   "metadata": {},
   "outputs": [],
   "source": [
    "print(\"이름: %s\" %name)"
   ]
  },
  {
   "cell_type": "code",
   "execution_count": null,
   "id": "b1d98ccf",
   "metadata": {},
   "outputs": [],
   "source": [
    "# + 연산자 사용 출력"
   ]
  },
  {
   "cell_type": "code",
   "execution_count": null,
   "id": "7b672530",
   "metadata": {},
   "outputs": [],
   "source": [
    "name = \"홍길동\" \n",
    "age = 17\n",
    "gender = \"남\"\n",
    "height = 170.51\n",
    "weight = 77.56\n"
   ]
  },
  {
   "cell_type": "code",
   "execution_count": null,
   "id": "08949488",
   "metadata": {},
   "outputs": [],
   "source": [
    "print (\"이름: \" + name)"
   ]
  },
  {
   "cell_type": "code",
   "execution_count": null,
   "id": "b2fd6295",
   "metadata": {},
   "outputs": [],
   "source": [
    "# format() 사용 방법"
   ]
  },
  {
   "cell_type": "code",
   "execution_count": null,
   "id": "691dd62d",
   "metadata": {},
   "outputs": [],
   "source": [
    "print (\"이름 : {}\" .format(name))"
   ]
  },
  {
   "cell_type": "code",
   "execution_count": null,
   "id": "c054a718",
   "metadata": {},
   "outputs": [],
   "source": [
    "# f-string 방법"
   ]
  },
  {
   "cell_type": "code",
   "execution_count": null,
   "id": "ffa07335",
   "metadata": {},
   "outputs": [],
   "source": [
    "print(f\"이름: {name}\")\n",
    "print(f\"나이: {age}\")\n",
    "print(f\"성별: {gender}\")\n",
    "print(f\"키: {height : .1f}\")"
   ]
  },
  {
   "cell_type": "code",
   "execution_count": null,
   "id": "77ab6629",
   "metadata": {},
   "outputs": [],
   "source": [
    "x = int(input(\"숫자 입력: \"))\n",
    "print (x)\n",
    "if x > 0:\n",
    "  print(\"양수\")\n",
    "elif x < 0:\n",
    "  print(\"음수\")\n",
    "else:\n",
    "  print(\"ZERO\")"
   ]
  },
  {
   "cell_type": "code",
   "execution_count": null,
   "id": "0b6e94ad",
   "metadata": {},
   "outputs": [],
   "source": [
    "x = 'hello'\n",
    "\n",
    "if 'h' in x:\n",
    "  print(\"존재\")\n",
    "else:\n",
    "  print(\"없음\")"
   ]
  },
  {
   "cell_type": "code",
   "execution_count": null,
   "id": "43ddda7f",
   "metadata": {},
   "outputs": [],
   "source": [
    "hello = \"안녕하세요\"\n",
    "\n",
    "print(hello[-5])\n",
    "print(hello[-4])\n",
    "print(hello[-3])\n",
    "print(hello[-2])\n",
    "print(hello[-1])"
   ]
  },
  {
   "cell_type": "code",
   "execution_count": null,
   "id": "bc6a7cd4",
   "metadata": {},
   "outputs": [],
   "source": [
    "print(hello[:2])\n",
    "print(hello[2:])"
   ]
  },
  {
   "cell_type": "code",
   "execution_count": null,
   "id": "09e4ff8c",
   "metadata": {},
   "outputs": [],
   "source": [
    "from random import *\n",
    "\n",
    "a = random() # 0부터 1.0 미만의 난수\n",
    "a = random() * 10 # 0부터 10.0 미만의 난수\n",
    "a = int(random()*10) # 0부터 10 미만의 난수\n",
    "a = int(random()*10) + 1 # 1부터 11 미만의 난수\n",
    "print (a)"
   ]
  },
  {
   "cell_type": "code",
   "execution_count": null,
   "id": "5b1ba31b",
   "metadata": {},
   "outputs": [],
   "source": [
    "print(\"--<< 컴퓨터와 가위바위보 게임하기 >>--\")\n",
    "computer = randint(1, 3)\n",
    "player = int(input(\"1, 2, 3중에 선택하세요: \"))\n",
    "\n",
    "if computer == 1:\n",
    "    print('컴퓨터는 가위를 냈습니다.')\n",
    "    if player == 1:\n",
    "        print('플레이어는 가위를 냈습니다.')\n",
    "        print('무승부')\n",
    "    elif player == 2:\n",
    "        print('플레이어는 바위를 냈습니다.')\n",
    "        print('플레이어 승리')   \n",
    "    elif player == 3:\n",
    "        print('플레이어는 보를 냈습니다.')\n",
    "        print('컴퓨터 승리')\n",
    "elif computer == 2:\n",
    "    print('컴퓨터는 바위를 냈습니다.')\n",
    "    if player == 1:\n",
    "        print('플레이어는 가위를 냈습니다.')\n",
    "        print('컴퓨터 승리')\n",
    "    elif player == 2:\n",
    "        print('플레이어는 바위를 냈습니다.')\n",
    "        print('무승부')\n",
    "    elif player == 3:\n",
    "        print('플레이어는 보를 냈습니다.')\n",
    "        print('플레이어 승리')\n",
    "elif computer == 3:\n",
    "    print('컴퓨터는 보를 냈습니다.')\n",
    "    if player == 1:\n",
    "        print('플레이어는 가위를 냈습니다.')\n",
    "        print('플레이어 승리')\n",
    "    elif player == 2:\n",
    "        print('플레이어는 바위를 냈습니다.')\n",
    "        print('컴퓨터 승리') \n",
    "    elif player == 3:\n",
    "        print('플레이어는 보를 냈습니다.')\n",
    "        print('무승부')"
   ]
  },
  {
   "cell_type": "code",
   "execution_count": null,
   "id": "685e0305",
   "metadata": {},
   "outputs": [],
   "source": [
    "jumin = input(\"주민번호 입력(중간에 '-' 기호 사용): \")\n",
    "\n",
    "k = int(jumin[7])\n",
    "\n",
    "if k % 2 :  # 1,3,5,7 는 남자, 2,4,6,8 은 여자\n",
    "  print(\"당신은 남자입니다.\")\n",
    "else :\n",
    "  print(\"당신은 여자입니다.\")  "
   ]
  },
  {
   "cell_type": "code",
   "execution_count": null,
   "id": "d5022fab",
   "metadata": {},
   "outputs": [],
   "source": [
    "data = \"\"\"\n",
    "kim 950101-1234567\n",
    "lee 970202-2345678\n",
    "park 930515-1357890\n",
    "\"\"\""
   ]
  },
  {
   "cell_type": "code",
   "execution_count": null,
   "id": "19412911",
   "metadata": {},
   "outputs": [],
   "source": [
    "info = data.split('\\n')[1:4]\n",
    "print(info)\n"
   ]
  },
  {
   "cell_type": "code",
   "execution_count": null,
   "id": "9a2ecf1a",
   "metadata": {},
   "outputs": [],
   "source": [
    "name_list = []\n",
    "jumin_list = []\n",
    "for i in info:\n",
    "  name = i.split(\" \")[0] \n",
    "  name_list.append(name)\n",
    "  jumin = i.split(\" \")[1][0:8] + \"******\"\n",
    "  jumin_list.append(jumin)\n",
    "\n",
    "print(name_list)\n",
    "print(jumin_list)\n",
    "\n",
    "  \n"
   ]
  },
  {
   "cell_type": "code",
   "execution_count": null,
   "id": "6367418d",
   "metadata": {},
   "outputs": [],
   "source": [
    "gender_list = []\n",
    "\n",
    "for i in jumin_list:\n",
    "  if(i[7] == \"1\"):\n",
    "    gender_list.append('남')\n",
    "  elif (i[7] == \"2\"):\n",
    "    gender_list.append('여')\n",
    "  \n",
    "print(gender_list)"
   ]
  },
  {
   "cell_type": "code",
   "execution_count": null,
   "id": "556162da",
   "metadata": {},
   "outputs": [],
   "source": [
    "from random import *\n",
    "\n",
    "lotto_number = []\n",
    "\n",
    "while len(lotto_number) < 6:\n",
    "  a = randint(1, 45)\n",
    "  if a not in lotto_number:\n",
    "    lotto_number.append(a)\n",
    "\n",
    "print(lotto_number)"
   ]
  },
  {
   "cell_type": "code",
   "execution_count": 49,
   "id": "0ae45d72",
   "metadata": {},
   "outputs": [
    {
     "name": "stdout",
     "output_type": "stream",
     "text": [
      "1부터 45사이의 수를 입력하세요\n",
      "이미 입력된 번호입니다.\n",
      "사용자 로또 입력 : [1, 3, 7, 28, 36, 45]\n"
     ]
    }
   ],
   "source": [
    "user_lotto = []\n",
    "\n",
    "while len(user_lotto) < 6:\n",
    "  x = int(input(\">> 1~45까지 로또 번호 입력: \"))\n",
    "  if(1 <= x <= 45):\n",
    "    if x in user_lotto:\n",
    "      print(\"이미 입력된 번호입니다.\")\n",
    "    else:\n",
    "      user_lotto.append(x)\n",
    "  else:\n",
    "    print(\"1부터 45사이의 수를 입력하세요\")\n",
    "    \n",
    "user_lotto.sort()\n",
    "\n",
    "print(\"사용자 로또 입력 :\" , user_lotto)\n",
    "    \n",
    "  "
   ]
  },
  {
   "cell_type": "code",
   "execution_count": null,
   "id": "c9058f29",
   "metadata": {},
   "outputs": [],
   "source": []
  }
 ],
 "metadata": {
  "kernelspec": {
   "display_name": "Python 3.10.6 64-bit",
   "language": "python",
   "name": "python3"
  },
  "language_info": {
   "codemirror_mode": {
    "name": "ipython",
    "version": 3
   },
   "file_extension": ".py",
   "mimetype": "text/x-python",
   "name": "python",
   "nbconvert_exporter": "python",
   "pygments_lexer": "ipython3",
   "version": "3.10.6"
  },
  "vscode": {
   "interpreter": {
    "hash": "b0fa6594d8f4cbf19f97940f81e996739fb7646882a419484c72d19e05852a7e"
   }
  }
 },
 "nbformat": 4,
 "nbformat_minor": 5
}
